{
 "cells": [
  {
   "cell_type": "code",
   "execution_count": 17,
   "metadata": {},
   "outputs": [],
   "source": [
    "import numpy as np\n",
    "import cvxpy as cx"
   ]
  },
  {
   "attachments": {},
   "cell_type": "markdown",
   "metadata": {},
   "source": [
    "The thrusters numbered from 1-6 is as follows: <br>\n",
    "T1: Front left vertical <br>\n",
    "T2: Front right vertical <br>\n",
    "T3: Back left vertical<br>\n",
    "T4: Back right vertical <br>\n",
    "T5: Side left horizontal <br>\n",
    "T6: Side right horizontal <br>\n",
    "The absolute distances to the side thruster are 0m in x and 0.185 in y. The absolute distances to the corner thrusters are 0.217m and 0.152m in y."
   ]
  },
  {
   "attachments": {},
   "cell_type": "markdown",
   "metadata": {},
   "source": [
    "The Thruster Allocation Matrix is represented as:\n",
    "\n",
    "$$\n",
    "\\begin{bmatrix}\n",
    "F_x \\\\\n",
    "F_z \\\\\n",
    "M_{roll} \\\\\n",
    "M_{pitch} \\\\\n",
    "M_{yaw} \\\\\n",
    "\\end{bmatrix}\n",
    "=\n",
    "\\begin{bmatrix}\n",
    "0 & 0 & 0 & 0 & 1 & 1 \\\\\n",
    "1 & 1 & 1 & 1 & 0 & 0 \\\\\n",
    "-0.217 & 0.217 & -0.217 & 0.217 & 0 & 0 \\\\\n",
    "0.152 & 0.152 & -0.152 & -0.152 & 0 & 0 \\\\\n",
    "-0.189 & 0.189 & 0.189 & -0.189 & -0.185 & 0.185 \\\\\n",
    "\\end{bmatrix}\n",
    "\\begin{bmatrix}\n",
    "T_1 \\\\\n",
    "T_2 \\\\\n",
    "T_3 \\\\\n",
    "T_4 \\\\\n",
    "T_5 \\\\\n",
    "T_6 \\\\\n",
    "\\end{bmatrix}\n",
    "$$\n",
    "\n",
    "Where $F_x$, $F_z$ are the forces in the x and z directions, $M_{roll}$, $M_{pitch}$, and $M_{yaw}$ are the moments about the respective axes, and $T_1$ to $T_6$ are the thruster outputs.\n"
   ]
  },
  {
   "cell_type": "code",
   "execution_count": 106,
   "metadata": {},
   "outputs": [],
   "source": [
    "T_alloc = np.array([\n",
    "    [0, 0, 0, 0, 1, 1],  # F_x\n",
    "    [1, 1, 1, 1, 0, 0],  # F_z\n",
    "    [-0.217, 0.217, -0.217, 0.217, 0, 0],  # M_roll\n",
    "    [0.152, 0.152, -0.152, -0.152, 0, 0],  # M_pitch\n",
    "    [0, 0, 0, 0, -0.185, 0.185]  # M_yaw\n",
    "]) # thruster allocation matrix"
   ]
  },
  {
   "cell_type": "code",
   "execution_count": 107,
   "metadata": {},
   "outputs": [
    {
     "data": {
      "text/plain": [
       "array([[ 0.   ,  0.25 , -1.152,  1.645,  0.   ],\n",
       "       [ 0.   ,  0.25 ,  1.152,  1.645,  0.   ],\n",
       "       [ 0.   ,  0.25 , -1.152, -1.645,  0.   ],\n",
       "       [ 0.   ,  0.25 ,  1.152, -1.645,  0.   ],\n",
       "       [ 0.5  , -0.   ,  0.   , -0.   , -2.703],\n",
       "       [ 0.5  , -0.   ,  0.   , -0.   ,  2.703]])"
      ]
     },
     "execution_count": 107,
     "metadata": {},
     "output_type": "execute_result"
    }
   ],
   "source": [
    "T_alloc_pinv = np.round(np.linalg.pinv(T_alloc), 3) # inverse of thruster allocation matrix\n",
    "T_alloc_pinv"
   ]
  },
  {
   "cell_type": "code",
   "execution_count": 108,
   "metadata": {},
   "outputs": [],
   "source": [
    "T_alloc_pinv = np.linalg.pinv(T_alloc) # inverse of thruster allocation matrix"
   ]
  },
  {
   "attachments": {},
   "cell_type": "markdown",
   "metadata": {},
   "source": [
    "The pseudo-inverse of the Thruster Allocation Matrix is represented as:\n",
    "\n",
    "$$\n",
    "\\begin{bmatrix}\n",
    "T_1 \\\\\n",
    "T_2 \\\\\n",
    "T_3 \\\\\n",
    "T_4 \\\\\n",
    "T_5 \\\\\n",
    "T_6 \\\\\n",
    "\\end{bmatrix}\n",
    "=\n",
    "\\begin{bmatrix}\n",
    "0 & 0.25 & -1.152 & 1.645 & 0 \\\\\n",
    "0 & 0.25 & 1.152 & 1.645 & 0 \\\\\n",
    "0 & 0.25 & -1.152 & -1.645 & 0 \\\\\n",
    "0 & 0.25 & 1.152 & -1.645 & 0 \\\\\n",
    "0.5 & 0 & 0 & 0 & -2.703 \\\\\n",
    "0.5 & 0 & 0 & 0 & 2.703 \\\\\n",
    "\\end{bmatrix}\n",
    "\\begin{bmatrix}\n",
    "F_{x} \\\\\n",
    "F_{z} \\\\\n",
    "M_{\\text{{roll}}} \\\\\n",
    "M_{\\text{{pitch}}} \\\\\n",
    "M_{\\text{{yaw}}} \\\\\n",
    "\\end{bmatrix}\n",
    "$$\n",
    "\n",
    "Where $T_1$ to $T_6$ are the thruster outputs, and $F_{x}$, $F_{z}$ are the forces in the x and z directions, $M_{\\text{{roll}}}$, $M_{\\text{{pitch}}}$, and $M_{\\text{{yaw}}}$ are the moments about the respective axes.\n",
    "\n"
   ]
  },
  {
   "cell_type": "code",
   "execution_count": 87,
   "metadata": {},
   "outputs": [
    {
     "name": "stdout",
     "output_type": "stream",
     "text": [
      "[-1.15207373  1.15207373 -1.15207373  1.15207373  0.5         0.5       ]\n",
      "[-1.          1.         -1.          1.          0.49803818  0.49803818]\n"
     ]
    }
   ],
   "source": [
    "F_x = 1\n",
    "F_z = 0\n",
    "M_roll = 1\n",
    "M_pitch = 0\n",
    "M_yaw = 0\n",
    "\n",
    "desired_force_torque = np.array([F_x, F_z, M_roll, M_pitch, M_yaw])\n",
    "initial_thruster_values = T_alloc_pinv @ desired_force_torque\n",
    "\n",
    "thruster_values = cx.Variable(6) # 6 thrusters\n",
    "objective = cx.Minimize(cx.norm(T_alloc @ thruster_values - desired_force_torque, \"inf\"))\n",
    "constraints = [thruster_values >= -1, thruster_values <= 1]\n",
    "problem = cx.Problem(objective, constraints)\n",
    "problem.solve()\n",
    "optimized_thruster_values = thruster_values.value\n",
    "print(initial_thruster_values)\n",
    "print(optimized_thruster_values)"
   ]
  },
  {
   "cell_type": "code",
   "execution_count": 89,
   "metadata": {},
   "outputs": [
    {
     "name": "stdout",
     "output_type": "stream",
     "text": [
      "[0.    0.    0.017 0.    0.   ]\n"
     ]
    }
   ],
   "source": [
    "actual_force_torque = T_alloc @ optimized_thruster_values\n",
    "error = np.square(desired_force_torque - actual_force_torque)\n",
    "print(np.round(error, 3))"
   ]
  }
 ],
 "metadata": {
  "kernelspec": {
   "display_name": "Python 3",
   "language": "python",
   "name": "python3"
  },
  "language_info": {
   "codemirror_mode": {
    "name": "ipython",
    "version": 3
   },
   "file_extension": ".py",
   "mimetype": "text/x-python",
   "name": "python",
   "nbconvert_exporter": "python",
   "pygments_lexer": "ipython3",
   "version": "3.8.10"
  },
  "orig_nbformat": 4
 },
 "nbformat": 4,
 "nbformat_minor": 2
}
